{
 "cells": [
  {
   "cell_type": "code",
   "execution_count": 10,
   "id": "18f81d70",
   "metadata": {},
   "outputs": [
    {
     "name": "stdout",
     "output_type": "stream",
     "text": [
      "I recommended it, It is good\n"
     ]
    }
   ],
   "source": [
    "x = \"movie1\"\n",
    "y = 5 \n",
    "s = 72.65\n",
    "\n",
    "if y>= 4  and s > 80 : \n",
    "    print(\"Highly recommended\")\n",
    "\n",
    "\n",
    "elif y >= 3 and s > 70 :\n",
    "     print(\"I recommended it, It is good\")\n",
    "\n",
    "elif y <= 2 and  s > 60 :\n",
    "     print(\"You should check it out!\")\n",
    "\n",
    "else : \n",
    "    print(\"Don't watch it, It is a waste of time\")"
   ]
  },
  {
   "cell_type": "code",
   "execution_count": null,
   "id": "942d29d0",
   "metadata": {},
   "outputs": [],
   "source": []
  },
  {
   "cell_type": "code",
   "execution_count": null,
   "id": "6a23c1e2",
   "metadata": {},
   "outputs": [],
   "source": []
  }
 ],
 "metadata": {
  "kernelspec": {
   "display_name": "Python 3 (ipykernel)",
   "language": "python",
   "name": "python3"
  },
  "language_info": {
   "codemirror_mode": {
    "name": "ipython",
    "version": 3
   },
   "file_extension": ".py",
   "mimetype": "text/x-python",
   "name": "python",
   "nbconvert_exporter": "python",
   "pygments_lexer": "ipython3",
   "version": "3.10.9"
  }
 },
 "nbformat": 4,
 "nbformat_minor": 5
}
